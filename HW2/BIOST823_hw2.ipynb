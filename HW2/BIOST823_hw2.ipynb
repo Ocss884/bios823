{
 "cells": [
  {
   "cell_type": "markdown",
   "metadata": {},
   "source": [
    "## Number theory and a Google recruitment puzzle\n",
    "\n",
    "Find the first 10-digit prime in the decimal expansion of 17$\\pi$.\n",
    "\n",
    "The first 5 digits in the decimal expansion of $\\pi$ are 14159. The first 4-digit prime in the decimal expansion of $\\pi$ are 4159. You are asked to find the first 10-digit prime in the decimal expansion of $17\\pi$. First solve sub-problems (divide and conquer):\n",
    "\n",
    " - Write a function to generate an arbitrary large expansion of a mathematical expression like $\\pi$. Hint: You can use the standard library `decimal` or the 3rd party library `sympy` to do this  \n",
    " - Write a function to check if a number is prime. Hint: See Sieve of Eratosthenes  \n",
    " - Write a function to generate sliding windows of a specified width from a long iterable (e.g. a string representation of a number)  \n",
    " \n",
    "Write unit tests for each of these three functions. You are encouraged, but not required, to try [test-driven development](https://en.wikipedia.org/wiki/Test-driven_development).\n",
    "\n",
    "Now use these helper functions to write the function that you need. Write a unit test for this final function, given that the first 10-digit prime in the expansion e is 7427466391. Finally, solve the given problem."
   ]
  },
  {
   "cell_type": "code",
   "execution_count": 1,
   "metadata": {},
   "outputs": [
    {
     "name": "stdout",
     "output_type": "stream",
     "text": [
      "The first 10-digits prime in 17pi is 8649375157\n"
     ]
    },
    {
     "ename": "SystemExit",
     "evalue": "",
     "output_type": "error",
     "traceback": [
      "An exception has occurred, use %tb to see the full traceback.\n",
      "\u001b[1;31mSystemExit\u001b[0m\n"
     ]
    },
    {
     "name": "stderr",
     "output_type": "stream",
     "text": [
      "D:\\anaconda3\\lib\\site-packages\\IPython\\core\\interactiveshell.py:3339: UserWarning: To exit: use 'exit', 'quit', or Ctrl-D.\n",
      "  warn(\"To exit: use 'exit', 'quit', or Ctrl-D.\", stacklevel=1)\n"
     ]
    }
   ],
   "source": [
    "import sympy\n",
    "import sys\n",
    "import numpy as np\n",
    "from bitarray import bitarray\n",
    "\n",
    "def decimal_expansion(num, digits):\n",
    "    \"\"\"\n",
    "    Decimial expansion of arbitray number\n",
    "    \n",
    "    Parameters\n",
    "    ----------\n",
    "    num: float\n",
    "        number to be expanded\n",
    "        \n",
    "    Return\n",
    "    ------\n",
    "    str\n",
    "        string of decimal expansion\n",
    "    \"\"\"\n",
    "    N = \"\"\n",
    "    for i in str(sympy.N(num, digits)).split(\".\"):\n",
    "        N += i\n",
    "    return N\n",
    "   \n",
    "def is_prime(num):\n",
    "    \"\"\"\n",
    "    Check whether a number is prime\n",
    "    \n",
    "    Parameters\n",
    "    ----------\n",
    "    num: float\n",
    "        number to check whether it is a prime\n",
    "        \n",
    "    Return\n",
    "    ------\n",
    "    Bool\n",
    "        True if the number is prime\n",
    "    \"\"\"\n",
    "    if num > 1:\n",
    "        for i in range(2, int(np.sqrt(num)+1)):\n",
    "            if (num % i) == 0:\n",
    "                return False\n",
    "    return True\n",
    "\n",
    "def slicing(N, digits):\n",
    "    \"\"\"\n",
    "    Slice a decimal expansion into n-digits pieces\n",
    "    \n",
    "    Parameter\n",
    "    ---------\n",
    "    N: str\n",
    "        string of decimal expansion\n",
    "    digits: int\n",
    "        number of digits per piece\n",
    "        \n",
    "    Return\n",
    "    ------\n",
    "    list\n",
    "        A list of all n-digits slices\n",
    "    \n",
    "    \"\"\"\n",
    "    slices = [int(N[i: i+ digits]) for i in range(len(N) - digits + 1)]\n",
    "    return slices\n",
    "\n",
    "if __name__ == \"__main__\":\n",
    "    pi17 = decimal_expansion(17*sympy.pi, 1000)\n",
    "    slices = slicing(pi17, 10)\n",
    "    for i in slices:\n",
    "        if is_prime(i):\n",
    "            print(f\"The first 10-digits prime in 17pi is {i}\")\n",
    "            sys.exit()\n",
    "    print(\"None\")"
   ]
  },
  {
   "cell_type": "code",
   "execution_count": 3,
   "metadata": {},
   "outputs": [
    {
     "name": "stdout",
     "output_type": "stream",
     "text": [
      "The first 10-digits prime in Euler's number is 7427466391\n"
     ]
    },
    {
     "ename": "SystemExit",
     "evalue": "",
     "output_type": "error",
     "traceback": [
      "An exception has occurred, use %tb to see the full traceback.\n",
      "\u001b[1;31mSystemExit\u001b[0m\n"
     ]
    }
   ],
   "source": [
    "exp = decimal_expansion(sympy.exp(1), 1000)\n",
    "slices = slicing(exp, 10)\n",
    "for i in slices:\n",
    "    if is_prime(i):\n",
    "        print(f\"The first 10-digits prime in Euler's number is {i}\")\n",
    "        sys.exit()\n",
    "print(\"None\")"
   ]
  },
  {
   "cell_type": "code",
   "execution_count": 4,
   "metadata": {},
   "outputs": [
    {
     "name": "stderr",
     "output_type": "stream",
     "text": [
      "test_decimal_expansion (__main__.Testhw2) ... ok\n",
      "test_is_prime (__main__.Testhw2) ... ok\n",
      "test_slicing (__main__.Testhw2) ... ok\n",
      "\n",
      "----------------------------------------------------------------------\n",
      "Ran 3 tests in 0.004s\n",
      "\n",
      "OK\n"
     ]
    },
    {
     "data": {
      "text/plain": [
       "<unittest.main.TestProgram at 0x1c42888b508>"
      ]
     },
     "execution_count": 4,
     "metadata": {},
     "output_type": "execute_result"
    }
   ],
   "source": [
    "import unittest\n",
    "\n",
    "class Testhw2(unittest.TestCase):\n",
    "    def test_decimal_expansion(self):\n",
    "        self.assertEqual(decimal_expansion(123, 10), \"1230000000\")\n",
    "        self.assertEqual(decimal_expansion(18.47, 10), \"1847000000\")\n",
    "        self.assertEqual(decimal_expansion(-123, 10), \"-1230000000\")\n",
    "        self.assertEqual(decimal_expansion(sympy.pi, 10), \"3141592654\")\n",
    "    def test_is_prime(self):\n",
    "        self.assertAlmostEqual(is_prime(17), True)\n",
    "        self.assertAlmostEqual(is_prime(18), False)\n",
    "    def test_slicing(self):\n",
    "        self.assertEqual(slicing(\"3141592654\", 8), [31415926,14159265,41592654])\n",
    "unittest.main(argv=[''], verbosity=2, exit=False)"
   ]
  }
 ],
 "metadata": {
  "kernelspec": {
   "display_name": "Python 3",
   "language": "python",
   "name": "python3"
  },
  "language_info": {
   "codemirror_mode": {
    "name": "ipython",
    "version": 3
   },
   "file_extension": ".py",
   "mimetype": "text/x-python",
   "name": "python",
   "nbconvert_exporter": "python",
   "pygments_lexer": "ipython3",
   "version": "3.7.6"
  }
 },
 "nbformat": 4,
 "nbformat_minor": 2
}
